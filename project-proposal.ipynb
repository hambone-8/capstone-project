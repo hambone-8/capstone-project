{
 "cells": [
  {
   "cell_type": "markdown",
   "id": "05a2197e",
   "metadata": {},
   "source": [
    "With this project, I plan to predict the housing prices. This may help in preparing first-time home buyers with financial planning."
   ]
  },
  {
   "cell_type": "markdown",
   "id": "92461779",
   "metadata": {},
   "source": [
    "I'll use the King County, WA housing sale prices between May 2014 and May 2015 available here: https://www.kaggle.com/harlfoxem/housesalesprediction. The dataset consists of 21,613 observations with the following features:"
   ]
  },
  {
   "cell_type": "markdown",
   "id": "17de3926",
   "metadata": {},
   "source": [
    "1. <b>Sale Price</b> of the house \n",
    "2. <b>No. of bedrooms</b> in the house\n",
    "3. <b>No. of bathrooms</b> in the house\n",
    "4. <b>Sqft of the living area</b>\n",
    "5. <b>Sqft of the lot</b>\n",
    "6. <b>Zipcode</b> of the house\n",
    "7. <b>No. of floors</b>\n",
    "8. Year the house was built\n",
    "9. Year the house was renovated\n",
    "10. If the house is waterfront\n",
    "11. Score of the view from the house"
   ]
  },
  {
   "cell_type": "markdown",
   "id": "edc55e45",
   "metadata": {},
   "source": [
    "This is a supervised regression problem and I will use several different methods to compare the performance of different regression models."
   ]
  },
  {
   "cell_type": "code",
   "execution_count": null,
   "id": "8e1b987f",
   "metadata": {},
   "outputs": [],
   "source": []
  }
 ],
 "metadata": {
  "kernelspec": {
   "display_name": "Python 3",
   "language": "python",
   "name": "python3"
  },
  "language_info": {
   "codemirror_mode": {
    "name": "ipython",
    "version": 3
   },
   "file_extension": ".py",
   "mimetype": "text/x-python",
   "name": "python",
   "nbconvert_exporter": "python",
   "pygments_lexer": "ipython3",
   "version": "3.8.8"
  }
 },
 "nbformat": 4,
 "nbformat_minor": 5
}
